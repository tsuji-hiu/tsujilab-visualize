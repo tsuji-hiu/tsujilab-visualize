{
 "cells": [
  {
   "cell_type": "code",
   "execution_count": 2,
   "id": "47063edc-88db-4b7f-8c44-96c5875487b3",
   "metadata": {},
   "outputs": [],
   "source": [
    "# CSVデータからグラフを描く\n",
    "\n",
    "import numpy as np\n",
    "import matplotlib.pyplot as plt"
   ]
  },
  {
   "cell_type": "code",
   "execution_count": 4,
   "id": "9f77ebbd-c78c-4fad-93fb-bba474df469f",
   "metadata": {},
   "outputs": [
    {
     "name": "stdout",
     "output_type": "stream",
     "text": [
      "[[ 1.  -6.4]\n",
      " [ 2.  -5.5]\n",
      " [ 3.  -0.8]\n",
      " [ 4.   5.6]\n",
      " [ 5.  11.4]\n",
      " [ 6.  15.7]\n",
      " [ 7.  19.5]\n",
      " [ 8.  21. ]\n",
      " [ 9.  17.1]\n",
      " [10.  10.3]\n",
      " [11.   3.5]\n",
      " [12.  -3.5]]\n"
     ]
    }
   ],
   "source": [
    "# CSVデータから取得\n",
    "data = np.loadtxt('data/ebetsu.csv', delimiter=',', skiprows=1, encoding=\"utf-8_sig\")\n",
    "\n",
    "print( data )\n"
   ]
  },
  {
   "cell_type": "code",
   "execution_count": 6,
   "id": "2fbeba89-4c06-433e-b723-d8fc31eed918",
   "metadata": {},
   "outputs": [
    {
     "name": "stdout",
     "output_type": "stream",
     "text": [
      "[ 1.  2.  3.  4.  5.  6.  7.  8.  9. 10. 11. 12.]\n",
      "[-6.4 -5.5 -0.8  5.6 11.4 15.7 19.5 21.  17.1 10.3  3.5 -3.5]\n"
     ]
    }
   ],
   "source": [
    "# 0列目だけ取る\n",
    "print( data[:,0] )\n",
    "\n",
    "# 1列目だけ取る\n",
    "print( data[:,1] )"
   ]
  },
  {
   "cell_type": "code",
   "execution_count": 8,
   "id": "cc99addd-ce59-4fec-a6e3-b4fcf879bd31",
   "metadata": {},
   "outputs": [
    {
     "data": {
      "text/plain": [
       "[<matplotlib.lines.Line2D at 0x1d8fa075130>]"
      ]
     },
     "execution_count": 8,
     "metadata": {},
     "output_type": "execute_result"
    },
    {
     "data": {
      "image/png": "[encoded data removed]",
      "text/plain": [
       "<Figure size 432x288 with 1 Axes>"
      ]
     },
     "metadata": {
      "needs_background": "light"
     },
     "output_type": "display_data"
    }
   ],
   "source": [
    "x = data[:,0]\n",
    "y = data[:,1]\n",
    "\n",
    "plt.plot(x, y, marker='o')"
   ]
  },
  {
   "cell_type": "code",
   "execution_count": null,
   "id": "bc326bea-59de-4373-9217-51102b7901f5",
   "metadata": {},
   "outputs": [],
   "source": []
  }
 ],
 "metadata": {
  "kernelspec": {
   "display_name": "Python 3 (ipykernel)",
   "language": "python",
   "name": "python3"
  },
  "language_info": {
   "codemirror_mode": {
    "name": "ipython",
    "version": 3
   },
   "file_extension": ".py",
   "mimetype": "text/x-python",
   "name": "python",
   "nbconvert_exporter": "python",
   "pygments_lexer": "ipython3",
   "version": "3.8.10"
  }
 },
 "nbformat": 4,
 "nbformat_minor": 5
}
